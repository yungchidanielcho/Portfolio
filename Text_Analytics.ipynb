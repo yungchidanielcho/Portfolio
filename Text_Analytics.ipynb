{
  "nbformat": 4,
  "nbformat_minor": 0,
  "metadata": {
    "colab": {
      "name": "CIND830F20 Assignment 2.ipynb",
      "provenance": [],
      "collapsed_sections": [],
      "include_colab_link": true
    },
    "kernelspec": {
      "display_name": "Python 3",
      "language": "python",
      "name": "python3"
    },
    "language_info": {
      "codemirror_mode": {
        "name": "ipython",
        "version": 3
      },
      "file_extension": ".py",
      "mimetype": "text/x-python",
      "name": "python",
      "nbconvert_exporter": "python",
      "pygments_lexer": "ipython3",
      "version": "3.7.6"
    },
    "nteract": {
      "version": "0.25.1"
    },
    "varInspector": {
      "cols": {
        "lenName": 16,
        "lenType": 16,
        "lenVar": 40
      },
      "kernels_config": {
        "python": {
          "delete_cmd_postfix": "",
          "delete_cmd_prefix": "del ",
          "library": "var_list.py",
          "varRefreshCmd": "print(var_dic_list())"
        },
        "r": {
          "delete_cmd_postfix": ") ",
          "delete_cmd_prefix": "rm(",
          "library": "var_list.r",
          "varRefreshCmd": "cat(var_dic_list()) "
        }
      },
      "types_to_exclude": [
        "module",
        "function",
        "builtin_function_or_method",
        "instance",
        "_Feature"
      ],
      "window_display": false
    }
  },
  "cells": [
    {
      "cell_type": "markdown",
      "metadata": {
        "id": "view-in-github",
        "colab_type": "text"
      },
      "source": [
        "<a href=\"https://colab.research.google.com/github/yungchidanielcho/Portfolio/blob/main/Text_Analytics.ipynb\" target=\"_parent\"><img src=\"https://colab.research.google.com/assets/colab-badge.svg\" alt=\"Open In Colab\"/></a>"
      ]
    },
    {
      "cell_type": "markdown",
      "metadata": {
        "id": "TX_-QfCapg5r"
      },
      "source": [
        "## CIND830 - Python Programming for Data Science  \n",
        "### Assignment 2 (10% of the final grade)\n",
        "### Due on November 09, 2020 11:59 PM"
      ]
    },
    {
      "cell_type": "markdown",
      "metadata": {
        "id": "U8IqCJzxpg5t"
      },
      "source": [
        "*****\n",
        "This is a Jupyter Notebook document that extends a simple formatting syntax for authoring HTML and PDF.\n",
        "Review [this](https://jupyter-notebook.readthedocs.io/en/stable/notebook.html) website for more details on using Juputer Notebook.\n",
        "\n",
        "Use the JupyterHub server on the Google Cloud Platform,\n",
        "provided by your designated instructor, for this assignment.\n",
        "Complete the assignment by inserting your Python code wherever you see the string\n",
        "\"#INSERT YOUR ANSWER HERE.\"\n",
        "\n",
        "When you click the `File` button, from the top navigation bar, then select `Export Notebook As ...`,\n",
        "a document (PDF or HTML format) will be generated that includes\n",
        " both the assignment content and the output of any embedded Python code chunks.\n",
        "\n",
        "Using [these](https://www.ryerson.ca/courses/students/tutorials/assignments/) guidelines,\n",
        "submit **both** the IPYNB and the exported file (PDF or HTML).\n",
        "Failing to submit both files will be subject to mark deduction."
      ]
    },
    {
      "cell_type": "markdown",
      "metadata": {
        "id": "_w2FpDl5pg5u"
      },
      "source": [
        "*****"
      ]
    },
    {
      "cell_type": "markdown",
      "metadata": {
        "id": "EgCYUXsUpg5w"
      },
      "source": [
        "### Question 1:"
      ]
    },
    {
      "cell_type": "markdown",
      "metadata": {
        "id": "U8EiOXpFAvO0"
      },
      "source": [
        "**a)** Define a function called `getEven` that takes a list of numbers as a parameter and returns a new list that contains only the even numbers.\n",
        "For example given \\[1, 2, 3, 4, 5, 7\\] the getEven function will return \\[2, 4\\]"
      ]
    },
    {
      "cell_type": "code",
      "metadata": {
        "execution": {
          "iopub.execute_input": "2020-10-12T00:51:46.336Z",
          "iopub.status.busy": "2020-10-12T00:51:46.323Z",
          "iopub.status.idle": "2020-10-12T00:51:46.350Z",
          "shell.execute_reply": "2020-10-12T00:51:46.143Z"
        },
        "id": "uDtTitw9AvO1",
        "pycharm": {
          "name": "#%%\n"
        },
        "outputId": "9c96ba3d-b6e9-4dcc-965f-e708b8c18713",
        "colab": {
          "base_uri": "https://localhost:8080/"
        }
      },
      "source": [
        "def getEven (iLyst):\n",
        "  ans = []\n",
        "  for v in iLyst:\n",
        "    if v % 2 == 0:\n",
        "      ans.append(v)\n",
        "  return ans\n",
        "iLyst = [1,2,3,4,5,7]\n",
        "getEven(iLyst)"
      ],
      "execution_count": 134,
      "outputs": [
        {
          "output_type": "execute_result",
          "data": {
            "text/plain": [
              "[2, 4]"
            ]
          },
          "metadata": {
            "tags": []
          },
          "execution_count": 134
        }
      ]
    },
    {
      "cell_type": "markdown",
      "metadata": {
        "id": "7P6eyfpepg58"
      },
      "source": [
        "**b)** Modify the `getEven` function you created in Q1.a to return a dictionary of the counts of the even and the odd numbers. For example given \\[1, 2, 3, 4, 5, 7\\] the function returns {'even': 2, 'odd': 4}."
      ]
    },
    {
      "cell_type": "code",
      "metadata": {
        "execution": {
          "iopub.execute_input": "2020-10-12T00:51:46.380Z",
          "iopub.status.busy": "2020-10-12T00:51:46.370Z",
          "iopub.status.idle": "2020-10-12T00:51:46.390Z",
          "shell.execute_reply": "2020-10-12T00:51:46.160Z"
        },
        "id": "s2xo2uaYpg59",
        "pycharm": {
          "name": "#%%\n"
        },
        "tags": [
          "parameters"
        ],
        "outputId": "75bafe2c-e629-4cf2-8c50-608c9e2549e2",
        "colab": {
          "base_uri": "https://localhost:8080/"
        }
      },
      "source": [
        "def countEvenOdd (iLyst):\n",
        "  dict = {}\n",
        "  for v in iLyst:\n",
        "    if v % 2 == 0:\n",
        "      dict['even'] = dict.get('even',0) + 1\n",
        "    else:\n",
        "      dict['odd'] = dict.get('odd',0) + 1\n",
        "  return dict\n",
        "iLyst = [1,2,3,4,5,7]\n",
        "countEvenOdd(iLyst)"
      ],
      "execution_count": 135,
      "outputs": [
        {
          "output_type": "execute_result",
          "data": {
            "text/plain": [
              "{'even': 2, 'odd': 4}"
            ]
          },
          "metadata": {
            "tags": []
          },
          "execution_count": 135
        }
      ]
    },
    {
      "cell_type": "markdown",
      "metadata": {
        "id": "xC08P3Mvpg6C"
      },
      "source": [
        "**c)** Modify the function you created in Q1.b and add two more more entries to the returned dictionary: one to represent the sum of all the numbers and the other one to represent the ratio of the even to the odd numbers.  For example, given \\[1, 2, 3, 4, 5, 7\\] the function returns {'even': 2, 'odd': 4, 'sum': 6, 'ratio': 0.5}."
      ]
    },
    {
      "cell_type": "code",
      "metadata": {
        "execution": {
          "iopub.execute_input": "2020-10-12T00:51:46.418Z",
          "iopub.status.busy": "2020-10-12T00:51:46.403Z",
          "iopub.status.idle": "2020-10-12T00:51:46.429Z",
          "shell.execute_reply": "2020-10-12T00:51:46.172Z"
        },
        "id": "MVoBD9X1pg6D",
        "pycharm": {
          "name": "#%%\n"
        },
        "tags": [],
        "outputId": "25eac8cb-fb57-4ad8-9ea1-4d960bc2d7ab",
        "colab": {
          "base_uri": "https://localhost:8080/"
        }
      },
      "source": [
        "def countEvenOddSumRatio (iLyst):\n",
        "  dict = {}\n",
        "  for v in iLyst:\n",
        "    if v % 2 == 0:\n",
        "      dict['even'] = dict.get('even',0) + 1\n",
        "    else:\n",
        "      dict['odd'] = dict.get('odd',0) + 1\n",
        "  dict['sum'] = sum(iLyst)\n",
        "  if dict.get('odd',0) > 0:\n",
        "    # if there is more than one odd number\n",
        "    dict['ratio'] = dict.get('even',0)/dict.get('odd')\n",
        "    # if there is no odd number but there is more than one even number, ratio is 1\n",
        "  elif dict.get('odd',0) == 0 and dict.get('even',0) > 0: \n",
        "    dict['ratio'] = 1\n",
        "    # if there is no odd number but there is nos even number, ratio is not a number\n",
        "  elif dict.get('odd',0) == 0 and dict.get('even',0) < 0:\n",
        "    dict['ratio'] = 'Nan'\n",
        "  return dict\n",
        "iLyst = [1,2,3,4,5,7]\n",
        "countEvenOddSumRatio(iLyst)"
      ],
      "execution_count": 21,
      "outputs": [
        {
          "output_type": "execute_result",
          "data": {
            "text/plain": [
              "{'even': 2, 'odd': 4, 'ratio': 0.5, 'sum': 22}"
            ]
          },
          "metadata": {
            "tags": []
          },
          "execution_count": 21
        }
      ]
    },
    {
      "cell_type": "markdown",
      "metadata": {
        "id": "M4dHoJWYpg6G"
      },
      "source": [
        "**d)** Modify the function you created in Q1.c to traverse the values of the returned dictionary and return the dictionary keys as a tuple.  For example, given \\[1, 2, 3, 4, 5, 7\\] the function returns ('even', 'odd', 'sum', 'ratio')."
      ]
    },
    {
      "cell_type": "code",
      "metadata": {
        "execution": {
          "iopub.execute_input": "2020-10-12T00:51:46.457Z",
          "iopub.status.busy": "2020-10-12T00:51:46.445Z",
          "iopub.status.idle": "2020-10-12T00:51:46.467Z",
          "shell.execute_reply": "2020-10-12T00:51:46.185Z"
        },
        "id": "gtgmUSaQpg6H",
        "pycharm": {
          "name": "#%%\n"
        },
        "tags": [],
        "outputId": "d27707c3-f0a9-4c47-a6ed-a675acf571d2",
        "colab": {
          "base_uri": "https://localhost:8080/"
        }
      },
      "source": [
        "def getKeys(iLyst):\n",
        "  dict = {}\n",
        "  for v in iLyst:\n",
        "    if v % 2 == 0:\n",
        "      dict['even'] = dict.get('even',0) + 1\n",
        "    else:\n",
        "      dict['odd'] = dict.get('odd',0) + 1\n",
        "  dict['sum'] = sum(iLyst)\n",
        "  if dict.get('odd',0) > 0:\n",
        "    # if there is more than one odd number\n",
        "    dict['ratio'] = dict.get('even',0)/dict.get('odd')\n",
        "    # if there is no odd number but there is more than one even number, ratio is 1\n",
        "  elif dict.get('odd',0) == 0 and dict.get('even',0) > 0: \n",
        "    dict['ratio'] = 1\n",
        "    # if there is no odd number but there is nos even number, ratio is not a number\n",
        "  elif dict.get('odd',0) == 0 and dict.get('even',0) < 0:\n",
        "    dict['ratio'] = 'Nan'\n",
        "  ans = tuple(dict.keys())\n",
        "  return ans\n",
        "iLyst = [1,2,3,4,5,7]\n",
        "getKeys(iLyst)"
      ],
      "execution_count": 27,
      "outputs": [
        {
          "output_type": "execute_result",
          "data": {
            "text/plain": [
              "('odd', 'even', 'sum', 'ratio')"
            ]
          },
          "metadata": {
            "tags": []
          },
          "execution_count": 27
        }
      ]
    },
    {
      "cell_type": "markdown",
      "metadata": {
        "id": "ES2Lj2aup8BB"
      },
      "source": [
        "*****"
      ]
    },
    {
      "cell_type": "markdown",
      "metadata": {
        "id": "TEbtnn-0pg6K",
        "nteract": {
          "transient": {
            "deleting": false
          }
        }
      },
      "source": [
        "\n",
        "\n",
        "### Question 2:\n",
        "\n",
        "Let's define a base class called `Shape` with methods to calculate the area and perimeter of different shapes, as follows:"
      ]
    },
    {
      "cell_type": "code",
      "metadata": {
        "execution": {
          "iopub.execute_input": "2020-10-12T00:51:46.492Z",
          "iopub.status.busy": "2020-10-12T00:51:46.483Z",
          "iopub.status.idle": "2020-10-12T00:51:46.503Z",
          "shell.execute_reply": "2020-10-12T00:51:46.194Z"
        },
        "id": "sAiYselppg6K",
        "jupyter": {
          "outputs_hidden": false,
          "source_hidden": false
        },
        "nteract": {
          "transient": {
            "deleting": false
          }
        }
      },
      "source": [
        "class Shape:\n",
        "    '''A class defining shapes'''\n",
        "    def __repr__(self):\n",
        "        return f'I am a {self.__class__.__name__}' #print the shape's name\n",
        "\n",
        "    def area(self):\n",
        "        pass \n",
        "\n",
        "    def perimeter(self):\n",
        "        pass"
      ],
      "execution_count": 137,
      "outputs": []
    },
    {
      "cell_type": "markdown",
      "metadata": {
        "id": "FRw3RLJ0pg6M",
        "nteract": {
          "transient": {
            "deleting": false
          }
        }
      },
      "source": [
        "**a)**  Define a subclass called `Rectangle` that extends the `Shape` class.  The `Rectangle` class has two parameters: width and height. The area and perimeter of can be computed according to the following formulae:\n",
        "\n",
        "$ area = width * height $\n",
        "\n",
        "$ perimeter = 2 * width * height $\n",
        "\n",
        "Hint: A subclass can implement a base class by overriding methods. The `Rectangle` subclass can be defined with the following header:\n",
        "`class Rectangle(Shape):`\n",
        "\n",
        "For example, if the subclass `Rectangle` is instantiated with `Rectangle(3,4)`, the following will be returned:\n",
        "\n",
        "`I am a Rectangle`\n",
        "\n",
        "`area = 12`\n",
        "\n",
        "`perimeter = 14`"
      ]
    },
    {
      "cell_type": "code",
      "metadata": {
        "execution": {
          "iopub.execute_input": "2020-10-12T00:51:46.534Z",
          "iopub.status.busy": "2020-10-12T00:51:46.523Z",
          "iopub.status.idle": "2020-10-12T00:51:46.546Z",
          "shell.execute_reply": "2020-10-12T00:51:46.214Z"
        },
        "id": "PWvj1Z6lpg6N",
        "nteract": {
          "transient": {
            "deleting": false
          }
        },
        "tags": [],
        "outputId": "2701ed55-1676-483d-c2bd-2636f34c2b1b",
        "colab": {
          "base_uri": "https://localhost:8080/"
        }
      },
      "source": [
        "class Rectangle(Shape):\n",
        "  def __init__(self,width,height):\n",
        "    ''' CRetangle,str,str,str)\n",
        "    '''\n",
        "    self.width = width\n",
        "    self.height = height\n",
        "    self.area = self.area()\n",
        "    self.perimeter = self.perimeter()\n",
        "    return\n",
        "  def __repr__(self):\n",
        "    return (f'I am a {self.__class__.__name__} \\n\\narea = {self.area!r} \\n\\nperimeter = {self.perimeter!r}')\n",
        "  def area(self):\n",
        "    return self.height * self.width\n",
        "  def perimeter(self):\n",
        "    return (self.height + self.width) * 2\n",
        "  pass\n",
        "\n",
        "Rectangle(3,4)"
      ],
      "execution_count": 139,
      "outputs": [
        {
          "output_type": "execute_result",
          "data": {
            "text/plain": [
              "I am a Rectangle \n",
              "\n",
              "area = 12 \n",
              "\n",
              "perimeter = 14"
            ]
          },
          "metadata": {
            "tags": []
          },
          "execution_count": 139
        }
      ]
    },
    {
      "cell_type": "markdown",
      "metadata": {
        "id": "dGqJtsN4AvPB"
      },
      "source": [
        "**b)**  Define a subclass called `Square` that extends the `Rectangle` class. \n",
        "\n",
        "Hint: The `Square` class should inherit all the attributes and behaviours of the `Rectangle` class. However, for any square, the width and height are the same."
      ]
    },
    {
      "cell_type": "code",
      "metadata": {
        "execution": {
          "iopub.execute_input": "2020-10-12T00:51:46.573Z",
          "iopub.status.busy": "2020-10-12T00:51:46.562Z",
          "iopub.status.idle": "2020-10-12T00:51:46.584Z",
          "shell.execute_reply": "2020-10-12T00:51:46.227Z"
        },
        "id": "DVOaFVZvAvPO",
        "pycharm": {
          "name": "#%%\n"
        },
        "tags": [],
        "outputId": "4b67cda9-bd13-4f12-d057-bf6b12832d5d",
        "colab": {
          "base_uri": "https://localhost:8080/"
        }
      },
      "source": [
        "class Square(Rectangle):\n",
        "  def __init__(self,height):\n",
        "    self.height = height\n",
        "    self.width = height\n",
        "    self.area = super().area()\n",
        "    self.perimeter = super().perimeter()\n",
        "    return\n",
        "Square(3)"
      ],
      "execution_count": 138,
      "outputs": [
        {
          "output_type": "execute_result",
          "data": {
            "text/plain": [
              "I am a Square \n",
              "\n",
              "area = 9 \n",
              "\n",
              "perimeter = 12"
            ]
          },
          "metadata": {
            "tags": []
          },
          "execution_count": 138
        }
      ]
    },
    {
      "cell_type": "markdown",
      "metadata": {
        "id": "mkFrWZ3kAvPQ"
      },
      "source": [
        "**c)**  Define a subclass called `Circle` that extends the `Shape` class.  The `Circle` class has only one parameter which is the `radius`, and the area and perimeter can be computed according to the following formulae:\n",
        "\n",
        "$Area Of Circle = πR^2$\n",
        "\n",
        "$Perimeter Of Circle = 2πR$\n",
        "\n",
        "Hint:  You might consider using the `math.pi` constant that returns the value of pi: 3.141592653589793.\n",
        "\n",
        "For example, if the subclass `Circle` is instantiated with Circle(radius = 5), the following will be returned:\n",
        "\n",
        "`I am a Circle`\n",
        "\n",
        "`area = 78.54`\n",
        "\n",
        "`perimeter = 31.42`"
      ]
    },
    {
      "cell_type": "code",
      "metadata": {
        "execution": {
          "iopub.execute_input": "2020-10-12T00:51:46.607Z",
          "iopub.status.busy": "2020-10-12T00:51:46.599Z",
          "iopub.status.idle": "2020-10-12T00:51:46.617Z",
          "shell.execute_reply": "2020-10-12T00:51:46.240Z"
        },
        "id": "fP4sK_mKAvPR",
        "pycharm": {
          "name": "#%%\n"
        },
        "tags": [],
        "outputId": "2df519d4-2de0-4815-bb1e-fadeb584bfb9",
        "colab": {
          "base_uri": "https://localhost:8080/"
        }
      },
      "source": [
        "class Circle(Shape):\n",
        "  \n",
        "  def __init__(self,radius):\n",
        "    self.radius = radius\n",
        "    self.area = self.area()\n",
        "    self.perimeter = self.perimeter()\n",
        "    return\n",
        "  def __repr__(self):\n",
        "    return ('I am a {0} \\n\\narea = {1:.3f} \\n\\nperimeter = {2:2.3f}'.format(self.__class__.__name__,self.area,self.perimeter))\n",
        "  def area(self):\n",
        "    import math\n",
        "    return math.pi * self.radius ** 2\n",
        "  def perimeter(self):\n",
        "    import math\n",
        "    return 2 * math.pi * self.radius\n",
        "Circle(3)"
      ],
      "execution_count": 151,
      "outputs": [
        {
          "output_type": "execute_result",
          "data": {
            "text/plain": [
              "I am a Circle \n",
              "\n",
              "area = 28.274 \n",
              "\n",
              "perimeter = 18.850"
            ]
          },
          "metadata": {
            "tags": []
          },
          "execution_count": 151
        }
      ]
    },
    {
      "cell_type": "markdown",
      "metadata": {
        "id": "M9eJ34NNAvPT"
      },
      "source": [
        "*****"
      ]
    },
    {
      "cell_type": "markdown",
      "metadata": {
        "id": "NNVEX5FMq_I7"
      },
      "source": [
        "### Question 3:\n",
        "Email spam, also called junk email, is undesirable message sent in bulk by email (spamming). Spam filtering is an example of a document classification task deciding whether an email is a spam or non-spam. Assume that `txtFile` variable includes the content of a recieved email that has been stored as `email.txt`, as follows:\n"
      ]
    },
    {
      "cell_type": "code",
      "metadata": {
        "execution": {
          "iopub.execute_input": "2020-10-12T00:51:46.641Z",
          "iopub.status.busy": "2020-10-12T00:51:46.631Z",
          "iopub.status.idle": "2020-10-12T00:51:46.651Z",
          "shell.execute_reply": "2020-10-12T00:51:46.254Z"
        },
        "id": "5WRgwMXxAvPV",
        "pycharm": {
          "name": "#%%\n"
        }
      },
      "source": [
        "txtFile = open(\"email.txt\", \"w\") #Opening a file for writing\n",
        "txtFile.write(\"Subject: SAVE YOUR MUSIC AND REDEEM A SPOTIFY GIFT CARD\\n\\\n",
        "We noticed you haven\\'t used your Spotify account for accessing Spotify services in quite a while. To protect your privacy, this account will be deleted in 14 days, unless you sign in now!\\n\\\n",
        "If you haven\\'t experienced Spotify services recently, they\\'re worth another look.\\n\\\n",
        "It just takes a few seconds to sign in to a spotify account.\\n\\\n",
        "By clicking on any of the following links, you can get a gift card from Spotify worth $10, $20 or $50!\\n\\\n",
        "https://www.spotifytwo.ca\\n\\\n",
        "https://www.spotifynow.com\\n\\\n",
        "We hope to see you soon,\\n\\\n",
        "Sincerely, \\n\\\n",
        "Spotify account team\")\n",
        "txtFile.close()"
      ],
      "execution_count": 159,
      "outputs": []
    },
    {
      "cell_type": "markdown",
      "metadata": {
        "id": "oDRF95yUAvPW",
        "pycharm": {
          "name": "#%% md\n"
        }
      },
      "source": [
        "**a)** Display the total number of lines and words in the email.txt file."
      ]
    },
    {
      "cell_type": "code",
      "metadata": {
        "id": "lDM6-lUDIDy_",
        "outputId": "e25479ff-9c94-4195-8c14-998ae2701d0e",
        "colab": {
          "base_uri": "https://localhost:8080/"
        }
      },
      "source": [
        "nlines = 0\n",
        "nwords = 0\n",
        "with open('email.txt','r') as f:\n",
        "  for line in f:\n",
        "    nwords += len(line)\n",
        "    nlines += 1\n",
        "print(nlines, nwords)"
      ],
      "execution_count": 154,
      "outputs": [
        {
          "output_type": "stream",
          "text": [
            "10 600\n"
          ],
          "name": "stdout"
        }
      ]
    },
    {
      "cell_type": "markdown",
      "metadata": {
        "id": "YTYiW9MeAvPd"
      },
      "source": [
        "**b)** Display the subject of the received email existing in the `email.txt` file, then display the number of the upper and lower cases in the subject field."
      ]
    },
    {
      "cell_type": "code",
      "metadata": {
        "execution": {
          "iopub.execute_input": "2020-10-12T00:51:46.714Z",
          "iopub.status.busy": "2020-10-12T00:51:46.705Z",
          "iopub.status.idle": "2020-10-12T00:51:46.725Z",
          "shell.execute_reply": "2020-10-12T00:51:46.279Z"
        },
        "id": "b5J7kRLZAvPe",
        "outputId": "1a4ec66f-bece-417b-f3b7-6c7b24f33a91",
        "colab": {
          "base_uri": "https://localhost:8080/"
        }
      },
      "source": [
        "iSubstring = 'Subject: '\n",
        "with open('email.txt','r') as f:\n",
        "  for line in f:\n",
        "    # if we find the substring, it won't be -1\n",
        "    if line.find(iSubstring) != -1:\n",
        "      # calculate the position after the iSubstring\n",
        "      i = line.find(iSubstring) + len(iSubstring)\n",
        "      #get the subject line \n",
        "      l = line[i:].rstrip()\n",
        "      print(l)\n",
        "      nUpper = 0; nLower=0\n",
        "      for c in l:\n",
        "        if c.isupper():\n",
        "          nUpper +=1\n",
        "        elif c.islower():\n",
        "          nLower +=1\n",
        "      break\n",
        "print('There are {0} upper case letters and {1} lower case letters in the subject'.format(nUpper,nLower))"
      ],
      "execution_count": 155,
      "outputs": [
        {
          "output_type": "stream",
          "text": [
            "SAVE YOUR MUSIC AND REDEEM A SPOTIFY GIFT CARD\n",
            "There are 38 upper case letters and 0 lower case letters in the subject\n"
          ],
          "name": "stdout"
        }
      ]
    },
    {
      "cell_type": "markdown",
      "metadata": {
        "id": "bHHNxP0IAvPe"
      },
      "source": [
        "**c)** Does the email contain spam words such as 'gift', 'sign' or 'Buy'? "
      ]
    },
    {
      "cell_type": "code",
      "metadata": {
        "execution": {
          "iopub.execute_input": "2020-10-12T00:51:46.749Z",
          "iopub.status.busy": "2020-10-12T00:51:46.740Z",
          "iopub.status.idle": "2020-10-12T00:51:46.761Z",
          "shell.execute_reply": "2020-10-12T00:51:46.292Z"
        },
        "id": "NduU2lxxAvPg",
        "outputId": "109d49ce-b5a6-4324-a3e7-04394de08f37",
        "colab": {
          "base_uri": "https://localhost:8080/"
        }
      },
      "source": [
        "spamWords = ['gift','sign','Buy']\n",
        "quit = False\n",
        "with open('email.txt','r') as f:\n",
        "  for line in f:\n",
        "    for spamWord in spamWords:\n",
        "      if spamWord in line:\n",
        "        print('Spam word {} is in the email!'.format(spamWord))\n",
        "        quit = True\n",
        "        break\n",
        "    if quit == True:\n",
        "      break"
      ],
      "execution_count": 167,
      "outputs": [
        {
          "output_type": "stream",
          "text": [
            "Spam word sign is in the email!\n"
          ],
          "name": "stdout"
        }
      ]
    },
    {
      "cell_type": "markdown",
      "metadata": {
        "id": "TO4Ed0HWpg6d"
      },
      "source": [
        "**d)** Define a list that consists of 10 different email spam trigger words, then check whether any of those words exist in the body of the email or not. If the email contains a spam word, print it; otherwise, return a message that the email does not include any predefined spam words."
      ]
    },
    {
      "cell_type": "code",
      "metadata": {
        "execution": {
          "iopub.execute_input": "2020-10-12T00:51:46.788Z",
          "iopub.status.busy": "2020-10-12T00:51:46.778Z",
          "iopub.status.idle": "2020-10-12T00:51:46.796Z",
          "shell.execute_reply": "2020-10-12T00:51:46.307Z"
        },
        "id": "xrhY3djppg6d",
        "outputId": "dca88274-4d32-471f-b856-8856406cf5ba",
        "colab": {
          "base_uri": "https://localhost:8080/"
        }
      },
      "source": [
        "spamWords = ['gift','sign','Buy','now','click','link','http','account','service','hurry']\n",
        "# The first line is subject line skip it, line counter start at 1\n",
        "nLine = 1\n",
        "# spamword counter\n",
        "nSpam = 0\n",
        "with open('email.txt','r') as f:\n",
        "  # skip the subject line\n",
        "  next(f)\n",
        "  for line in f:\n",
        "    # loop through the spam word list\n",
        "    for spamWord in spamWords:\n",
        "      # if spamword found\n",
        "      if spamWord in line:\n",
        "        print('The spam word {0} is in the email on line {1}!'.format(spamWord,nLine))\n",
        "        # add 1 to spam word counter\n",
        "        nSpam += 1\n",
        "    #count the line for the printout\n",
        "    nLine +=1\n",
        "if nSpam == 0:\n",
        "  print('The email does not include any predefined spam words')"
      ],
      "execution_count": 161,
      "outputs": [
        {
          "output_type": "stream",
          "text": [
            "The spam word sign is in the email on line 1!\n",
            "The spam word now is in the email on line 1!\n",
            "The spam word account is in the email on line 1!\n",
            "The spam word service is in the email on line 1!\n",
            "The spam word service is in the email on line 2!\n",
            "The spam word sign is in the email on line 3!\n",
            "The spam word account is in the email on line 3!\n",
            "The spam word gift is in the email on line 4!\n",
            "The spam word click is in the email on line 4!\n",
            "The spam word link is in the email on line 4!\n",
            "The spam word http is in the email on line 5!\n",
            "The spam word now is in the email on line 6!\n",
            "The spam word http is in the email on line 6!\n",
            "The spam word account is in the email on line 9!\n"
          ],
          "name": "stdout"
        }
      ]
    },
    {
      "cell_type": "markdown",
      "metadata": {
        "id": "l9l0sjUoAvPk"
      },
      "source": [
        "#### This is the end of assignment 2"
      ]
    }
  ]
}