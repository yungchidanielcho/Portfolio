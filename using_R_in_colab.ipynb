{
  "nbformat": 4,
  "nbformat_minor": 0,
  "metadata": {
    "colab": {
      "name": "using R in colab.ipynb",
      "provenance": [],
      "authorship_tag": "ABX9TyP1ka4yqbswK3xoa9Y/MbqI",
      "include_colab_link": true
    },
    "kernelspec": {
      "name": "ir",
      "display_name": "R"
    }
  },
  "cells": [
    {
      "cell_type": "markdown",
      "metadata": {
        "id": "view-in-github",
        "colab_type": "text"
      },
      "source": [
        "<a href=\"https://colab.research.google.com/github/yungchidanielcho/Portfolio/blob/main/using_R_in_colab.ipynb\" target=\"_parent\"><img src=\"https://colab.research.google.com/assets/colab-badge.svg\" alt=\"Open In Colab\"/></a>"
      ]
    },
    {
      "cell_type": "code",
      "metadata": {
        "id": "6XGabM5rgu9Y"
      },
      "source": [
        ""
      ],
      "execution_count": null,
      "outputs": []
    },
    {
      "cell_type": "markdown",
      "metadata": {
        "id": "u83IBPSGg2tM"
      },
      "source": [
        "Go to browswer and type [colab.to/r](https://colab.to/r)\n",
        "\n",
        "The notebook will set default to R"
      ]
    },
    {
      "cell_type": "code",
      "metadata": {
        "id": "14Y1_HQjhCrd"
      },
      "source": [
        ""
      ],
      "execution_count": null,
      "outputs": []
    }
  ]
}